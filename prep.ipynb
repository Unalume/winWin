{
 "cells": [
  {
   "cell_type": "markdown",
   "metadata": {},
   "source": [
    "get, clean & structure the data for use in machine-learning. "
   ]
  },
  {
   "cell_type": "code",
   "execution_count": 1,
   "metadata": {
    "collapsed": true
   },
   "outputs": [],
   "source": [
    "#importing libraries\n",
    "import requests\n",
    "from bs4 import BeautifulSoup\n",
    "import numpy as np"
   ]
  },
  {
   "cell_type": "code",
   "execution_count": 2,
   "metadata": {},
   "outputs": [
    {
     "data": {
      "text/plain": [
       "'http://www.staatsloterijuitslag.nl/vorige-trekkingen/'"
      ]
     },
     "execution_count": 2,
     "metadata": {},
     "output_type": "execute_result"
    }
   ],
   "source": [
    "# create 'draw' list datastructure with the first string 'listof'\n",
    "draw = ['/vorige-trekkingen/']\n",
    "\n",
    "# def gurl(n) <generate url>\n",
    "# put results in a array/list\n",
    " \n",
    "def gurl(i):\n",
    "    start = 'http://www.staatsloterijuitslag.nl'\n",
    "    url = start + draw[i]\n",
    "    return url\n",
    "\n",
    "i = 0\n",
    "url = gurl(i)\n",
    "url"
   ]
  },
  {
   "cell_type": "code",
   "execution_count": 3,
   "metadata": {
    "collapsed": true
   },
   "outputs": [],
   "source": [
    "#requests header - 'play nice'\n",
    "headers = {'user-agent': 'Ron-vd-Berg, donron@gmail.com'}\n",
    "\n",
    "pages = requests.get(url, headers=headers)\n",
    "soup = BeautifulSoup(pages.content, 'html.parser')"
   ]
  },
  {
   "cell_type": "code",
   "execution_count": 4,
   "metadata": {},
   "outputs": [],
   "source": [
    "#create an array with url strings scraped from a.href=\"\" in p in div.class=\"content_main\"\n",
    "\n",
    "contentmain = soup.find_all('div', class_=\"content_main\")[1]\n",
    "\n",
    "a = contentmain.find_all('a', href=True)\n",
    "\n",
    "links = []\n",
    "\n",
    "for links in a:\n",
    "    l = links[\"href\"]\n",
    "    draw.append(l)\n",
    "    #print(links['href'])\n",
    "\n",
    "#draw\n",
    "#len(draw)"
   ]
  },
  {
   "cell_type": "code",
   "execution_count": 7,
   "metadata": {
    "scrolled": true
   },
   "outputs": [
    {
     "data": {
      "text/plain": [
       "'http://www.staatsloterijuitslag.nl/vorige-trekkingen/10-november-2011/'"
      ]
     },
     "execution_count": 7,
     "metadata": {},
     "output_type": "execute_result"
    }
   ],
   "source": [
    "#gurl(100)\n",
    "i =100\n",
    "url = gurl(i)\n",
    "url"
   ]
  },
  {
   "cell_type": "code",
   "execution_count": 10,
   "metadata": {},
   "outputs": [
    {
     "data": {
      "text/plain": [
       "<script type=\"text/javascript\">if (location.host != 'localhost') {var addon = 'domain=.groningenparkeren.nl;';} if (navigator.cookieEnabled) {document.cookie= 'maxwidth='+window.screen.availWidth+';'+addon+'path=/;expires='; if (document.cookie.indexOf('maxwidth') == null) {window.location.reload(true);}}</script>\n",
       "<script type=\"text/javascript\">if (navigator.cookieEnabled) {window.location.reload(true);} </script>\n",
       "<!DOCTYPE html PUBLIC '-//W3C//DTD XHTML 1.0 Transitional//EN' 'http://www.w3.org/TR/xhtml1/DTD/xhtml1-transitional.dtd'>\n",
       "<html xmlns=\"http://www.w3.org/1999/xhtml\">\n",
       "<head>\n",
       "<meta content=\"width=device-width, initial-scale=1.0\" name=\"viewport\"/>\n",
       "<meta content=\"text/html;charset=utf-8\" http-equiv=\"content-type\"/>\n",
       "<title></title>\n",
       "<meta content=\"\" name=\"keywords\"/>\n",
       "<meta content=\"\" name=\"description\"/>\n",
       "<meta content=\"index, follow\" name=\"robots\"/>\n",
       "<meta content=\"RienstraWebdevelopment.nl\" name=\"author\"/>\n",
       "<link href=\"../../css/staatsloterijuitslag.css\" rel=\"stylesheet\" type=\"text/css\"/>\n",
       "<script language=\"javascript\" src=\"../../mybin/java.ratebehavior.js\" type=\"text/javascript\"></script>\n",
       "<script language=\"javascript\" src=\"../../mybin/java.rating.js\" type=\"text/javascript\"></script>\n",
       "<link href=\"../../css/rating.css\" rel=\"stylesheet\" type=\"text/css\"/>\n",
       "<!-- Begin Cookie Consent plugin by Silktide - http://silktide.com/cookieconsent -->\n",
       "<script type=\"text/javascript\">\n",
       "    window.cookieconsent_options = {\"message\":\"Wegens EU regelgeving krijgt u deze meldeing dat wij cookies gebruiken.\",\"dismiss\":\"Ga Verder!\",\"learnMore\":\"Lees Meer\",\"link\":\"/cookiepolicy\",\"theme\":\"dark-bottom\"};\n",
       "</script>\n",
       "<script src=\"cookieconsent.latest.min.js\" type=\"text/javascript\"></script>\n",
       "<!-- End Cookie Consent plugin --><script>\n",
       "  (function(i,s,o,g,r,a,m){i['GoogleAnalyticsObject']=r;i[r]=i[r]||function(){\n",
       "  (i[r].q=i[r].q||[]).push(arguments)},i[r].l=1*new Date();a=s.createElement(o),\n",
       "  m=s.getElementsByTagName(o)[0];a.async=1;a.src=g;m.parentNode.insertBefore(a,m)\n",
       "  })(window,document,'script','//www.google-analytics.com/analytics.js','ga');\n",
       "\n",
       "  ga('create', 'UA-10042763-1', 'auto');\n",
       "  ga('send', 'pageview');\n",
       "\n",
       "</script>\n",
       "</head>\n",
       "<body>\n",
       "<div class=\"page_container\">\n",
       "<div class=\"page_header\">\n",
       "<div class=\"menu_title\"><h2 class=\"blauw\">Elke maand de uitslag van de Staatsloterij trekking</h2></div><div class=\"menu_container\">\n",
       "<ul>\n",
       "<li class=\"menuback\"><a class=\"menubase mlarge bold\" href=\"/\" title=\"Staatsloterij Uitslag\">Home</a></li><li class=\"smenuback\"><a class=\"smenubase mlarge bold\" href=\"/vorige-trekkingen/10-juli-2017/\" title=\"Vorige Staatsloterij Uitslagen\">Staatsloterij Uitslagen</a></li><li class=\"menuback\"><a class=\"menubase mlarge bold\" href=\"/faq/\" title=\"Faq\">Faq</a></li><li class=\"menuback\"><a class=\"menubase mlarge bold\" href=\"/prijzenpakket/\" title=\"Prijzenpakket\">Prijzenpakket</a></li><li class=\"menuback\"><a class=\"menubase mlarge bold\" href=\"/altijd-prijs/\" title=\"Altijd Prijs\">Altijd Prijs</a></li><li class=\"menuback\"><a class=\"menubase mlarge bold\" href=\"/beste-eindcijfer/\" title=\"Beste Eindcijfer\">Beste Eindcijfer</a></li><li class=\"menuback\"><a class=\"menubase mlarge bold\" href=\"/nieuws/\" title=\"Loterij Nieuws\">Nieuws</a></li></ul>\n",
       "</div>\n",
       "</div>\n",
       "<div class=\"content_container\">\n",
       "<script type=\"text/javascript\">if (window.screen.availWidth >= 1360) {document.write('<div class=\"content_wrapper\" >')}; </script><div class=\"content_container_main\">\n",
       "<div class=\"content_main_head\">\n",
       "<h1>Staatsloterij Uitslag 10 november 2011 </h1>\n",
       "</div>\n",
       "<div class=\"bround content_main\">\n",
       "<script type=\"text/javascript\">if (window.screen.availWidth >= 1360) {document.write('<span class=\"xsmall\">(advertentie)</span><br /><script src=\"http://media.kroonaffiliates.com/data/krooncasino/ad_js/display_170.js?ad=ad_749741_170.html&size=728x90&clicktag=http://record.affiliatelounge.com/_Ylz5EkWrQMmdpJtXwgSZ5eorI-QEr2uT/1\"></script> \n",
       "')}; </div></div></div></div></body></html><script type=\"text/javascript\">if (window.screen.availWidth <= 788) {document.write('<span class=\"xsmall\">(advertentie)</span><br /><script src=\"http://media.kroonaffiliates.com/data/krooncasino/ad_js/display_170.js?ad=ad_754024_170.html&size=300x250&clicktag=http://record.affiliatelounge.com/_Ylz5EkWrQMmdpJtXwgSZ5QhcjPLfGSYr/1\"></script> \n",
       "')}; <script type=\"text/javascript\">if ((window.screen.availWidth >= 789) && (window.screen.availWidth < 1360)) {document.write('<span class=\"xsmall\">(advertentie)</span><br /><script src=\"http://media.kroonaffiliates.com/data/krooncasino/ad_js/display_170.js?ad=ad_749744_170.html&size=468x60&clicktag=http://record.affiliatelounge.com/_Ylz5EkWrQMmdpJtXwgSZ5aknn9Z1btN7/1\"></script>\n",
       "')}; \n",
       "<div class=\"content_main_head\">\n",
       "<h2>Staatsloterij Uitslag 10 november 2011</h2>\n",
       "</div>\n",
       "<div class=\"content_main\">\n",
       "Vanaf  <strong>22:10</strong> uur kunt u de <strong>Staatsloterij uitslag</strong> van de 1071e trekking hier weer terug vinden op de voorpagina, zoals het hoort.<hr/><div class=\"backoranje white\">De Staatsloterij Jackpot staat op <strong>19,6 miljoen euro</strong>.</div><p>De kans dat de Jackpot valt bij de aanstaande trekking is <strong>1 op 0</strong>.</p><hr/><strong>Meespelen</strong> met de Staatsloterij voor deze maand kan tot en met <strong> 18:00</strong> uur, dus nog even snel naar de sigarenboer op de hoek<hr/><script type=\"text/javascript\">if (window.screen.availWidth >= 1360) {document.write('<span class=\"xsmall\">(advertentie)</span><br /><div id=\"div_90363\"><script type=\"text/javascript\" src=\"http://media.affiliatelounge.com/data/freegames/afflounge_kroon_freegames.js?lang=nl&gameNAME=wildrockets&divID=div_90363&height=375&width=100%&timeout=&clickTAG=http://record.kroonaffiliates.com/_Ylz5EkWrQMnnXijvkW_nYPldJhf8F7Rn/1/\"></script></div>\n",
       "Speel Wild Rockets nu voor echt geld bij <a href=\"http://record.kroonaffiliates.com/_Ylz5EkWrQMm26rBTnIdXzGNd7ZgqdRLk/1/\" rel=\"nofollow\">Kroon Casino</a> \n",
       "')}; <script type=\"text/javascript\">if (window.screen.availWidth <= 788) {document.write('<span class=\"xsmall\">(advertentie)</span><br /><script src=\"http://media.kroonaffiliates.com/data/krooncasino/ad_js/display_170.js?ad=ad_753997_170.html&size=300x250&clicktag=http://record.affiliatelounge.com/_Ylz5EkWrQMlCsJnNEg6TmAOYkoJS4nqF/1\"></script>\n",
       "')}; <script type=\"text/javascript\">if ((window.screen.availWidth >= 789) && (window.screen.availWidth < 1360)) {document.write('<span class=\"xsmall\">(advertentie)</span><br /><script src=\"http://media.kroonaffiliates.com/data/krooncasino/ad_js/display_170.js?ad=ad_749744_170.html&size=468x60&clicktag=http://record.affiliatelounge.com/_Ylz5EkWrQMmdpJtXwgSZ5aknn9Z1btN7/1\"></script>\n",
       "')}; <div style=\"clear:both;\"> </div>\n",
       "<div class=\"content_main_footer\"></div>\n",
       "\n",
       "<script type=\"text/javascript\">if (window.screen.availWidth >= 789 && window.screen.availWidth < 1360) document.write('<div class=\"content_wrapper\">'); </script><div class=\"content_container_left\">\n",
       "<div class=\"content_left_head\">\n",
       "<h3>Share Uitslag 10 november 2011</h3>\n",
       "</div>\n",
       "<div class=\"bround content_left\">\n",
       "<a href=\"http://www.facebook.com/sharer.php?u=http://www.staatsloterijuitslag.nl/vorige-trekkingen/10-november-2011/&amp;title=Uitslag 10 november 2011\"><img alt=\"Facebook\" class=\"socialbuttonwidth socialbuttonmargin\" src=\"/images/facebook.png\" title=\"Facebook\"/></a><a href=\"https://twitter.com/intent/tweet?url=http://www.staatsloterijuitslag.nl/vorige-trekkingen/10-november-2011/&amp;text=Uitslag 10 november 2011\"><img alt=\"Twitter\" class=\"socialbuttonwidth socialbuttonmargin\" src=\"/images/twitter.png\" title=\"Twitter\"/></a><a href=\"https://plusone.google.com/_/+1/confirm?hl=en&amp;url=http://www.staatsloterijuitslag.nl/vorige-trekkingen/10-november-2011/\"><img alt=\"Google+\" class=\"socialbuttonwidth \" src=\"/images/googleplus.png\" title=\"Google+\"/></a></div>\n",
       "<div class=\"content_left_head\">\n",
       "<h4>Vorige Staatsloterij Trekkingen</h4>\n",
       "</div>\n",
       "<div class=\"content_left\">\n",
       "<p><a href=\"/vorige-trekkingen/10-juli-2017/\">10 juli 2017</a><br/>\n",
       "<a href=\"/vorige-trekkingen/1-Juli-Trekking-2017/\">1 Juli Trekking 2017</a><br/>\n",
       "<a href=\"/vorige-trekkingen/10-juni-2017/\">10 juni 2017</a><br/>\n",
       "<a href=\"/vorige-trekkingen/27-mei-2017-Goedmaak-trekking/\">27 mei 2017 Goedmaak trekking</a><br/>\n",
       "<a href=\"/vorige-trekkingen/10-mei-2017/\">10 mei 2017</a><br/>\n",
       "<a href=\"/vorige-trekkingen/27-april-2017-Koningsdagtrekking/\">27 april 2017 Koningsdagtrekking</a><br/>\n",
       "<a href=\"/vorige-trekkingen/10-april-2017/\">10 april 2017</a><br/>\n",
       "<a href=\"/vorige-trekkingen/10-maart-2017/\">10 maart 2017</a><br/>\n",
       "<a href=\"/vorige-trekkingen/10-februari-2017/\">10 februari 2017</a><br/>\n",
       "<a href=\"/vorige-trekkingen/10-januari-2017/\">10 januari 2017</a><br/>\n",
       "<a href=\"/vorige-trekkingen/31-december-2016-ouderjaarstrekking/\">31 december 2016 ouderjaarstrekking</a><br/>\n",
       "<a href=\"/vorige-trekkingen/10-december-2016/\">10 december 2016</a><br/>\n",
       "<a href=\"/vorige-trekkingen/10-november-2016/\">10 november 2016</a><br/>\n",
       "<br/>\n",
       "<a href=\"/vorige-trekkingen/\">Alle uitslagen vanaf augustus 2008</a><br/>\n",
       "</p><br/>\n",
       "<span class=\"xsmall\">(advertentie)</span><br/><a href=\"/sponsor/id34/\" rel=\"nofollow\" target=\"_blank\" title=\"\"><img alt=\"\" border=\"0\" src=\"/images/id/300320-karamba-stardust.gif\" style=\"width:300px;\"/></a><div style=\"clear:both;\"> </div>\n",
       "</div><div class=\"content_left_footer\"></div>\n",
       "</div>\n",
       "<script type=\"text/javascript\">if (window.screen.availWidth >= 1360) {document.write('</div>')}; </script><div class=\"content_container_right\">\n",
       "<div class=\"content_right_head\">\n",
       "<h5>Rate Uitslag 10 november 2011</h5>\n",
       "</div>\n",
       "<div class=\"bround content_right\">\n",
       "<div class=\"hreview-aggregate\"><div class=\"ratingblock\"><div id=\"unit_long19x74\"> <ul class=\"unit-rating\" id=\"unit_ul19x74\" style=\"width:150px;\"> <li class=\"current-rating\" style=\"width:134.7px;\">Currently 4.49/5</li><li><a class=\"r1-unit rater\" href=\"/ratingverwerking.php?ratingverwerking=2017-07-15&amp;j=1&amp;q=19x74&amp;c=5&amp;t=84.87.246.63\" rel=\"nofollow\" title=\"1 out of 5\">1</a></li><li><a class=\"r2-unit rater\" href=\"/ratingverwerking.php?ratingverwerking=2017-07-15&amp;j=2&amp;q=19x74&amp;c=5&amp;t=84.87.246.63\" rel=\"nofollow\" title=\"2 out of 5\">2</a></li><li><a class=\"r3-unit rater\" href=\"/ratingverwerking.php?ratingverwerking=2017-07-15&amp;j=3&amp;q=19x74&amp;c=5&amp;t=84.87.246.63\" rel=\"nofollow\" title=\"3 out of 5\">3</a></li><li><a class=\"r4-unit rater\" href=\"/ratingverwerking.php?ratingverwerking=2017-07-15&amp;j=4&amp;q=19x74&amp;c=5&amp;t=84.87.246.63\" rel=\"nofollow\" title=\"4 out of 5\">4</a></li><li><a class=\"r5-unit rater\" href=\"/ratingverwerking.php?ratingverwerking=2017-07-15&amp;j=5&amp;q=19x74&amp;c=5&amp;t=84.87.246.63\" rel=\"nofollow\" title=\"5 out of 5\">5</a></li> </ul>\n",
       "<p><span class=\"rating\">Rating: <strong><span class=\"average\">4.5</span></strong>/<span class=\"best\">5</span> (<span class=\"votes\">2612</span> stemmen)</span><a class=\"author\" href=\"https://plus.google.com/108632945798492953824/?rel=author\"></a> </p><br/><span class=\"item\"><span class=\"fn\"><span class=\"\">Rate Uitslag 10 november 2011</span></span></span></div></div>\n",
       "</div></div>\n",
       "<div class=\"content_right_head\">\n",
       "<h5>Geef een reactie</h5>\n",
       "</div>\n",
       "<div class=\"invul content_right\">\n",
       "<form action=\"/vorige-trekkingen/10 november 2011/\" method=\"post\" name=\"main1\"><table class=\"normaal\"><tr><td class=\"\">Naam:</td><td><input class=\"verify\" name=\"naam\" type=\"text\" value=\"\"/></td></tr><tr><td class=\"\">Waardering:</td><td><select class=\"\" name=\"rating_id\"><option selected=\"selected\" value=\"5\">★★★★★ (5)</option> <option value=\"4\">★★★★☆ (4)</option> <option value=\"3\">★★★☆☆ (3)</option> <option value=\"2\">★★☆☆☆ (2)</option> <option value=\"1\">★☆☆☆☆ (1)</option> </select></td></tr><tr><td class=\"top\">E-mail:</td><td class=\"small\"><input class=\"verify\" name=\"email\" size=\"86\" type=\"text\" value=\"\"/><br/>E-mail adres is voor enkel voor verificatie. Het adres wordt niet gepubliceerd <input class=\"verifys\" name=\"emailverify\" size=\"86\" type=\"text\" value=\"\"/></td></tr><tr><td class=\"top\">Reactie:</td><td><input class=\"verifys\" name=\"subject\" size=\"86\" type=\"text\" value=\"\"/><textarea class=\"verify\" cols=\"65\" name=\"area1\" rows=\"6\"></textarea><br/><span class=\"small\">Geen urls, links, code, spam etc toegestaan</span></td></tr><tr><td></td><td><input name=\"btnsave\" type=\"submit\" value=\"Verstuur\"/></td></tr></table></form><div style=\"clear:both;\"> </div></div><div class=\"content_right_footer\"></div><br/>\n",
       "<div class=\"round content_right\">\n",
       "<div style=\"clear:both;\"> </div>\n",
       "</div><div class=\"content_right_footer\"></div>\n",
       "</div>\n",
       "<script type=\"text/javascript\">if ((window.screen.availWidth >= 789) and (window.screen.availWidth < 1360)) {document.write('</div>')}; </script>\n",
       "<div class=\"page_footer\">\n",
       "Copyright © 2012 <a class=\"white\" href=\"/\" rel=\"nofollow\" title=\"staatsloterijuitslag\">Staatsloterijuitslag</a>   <a class=\"white\" href=\"/disclaimer/\" title=\"Deze website is niet van de Staatsloterij\">Deze website is niet van de Staatsloterij</a><br/></div>\n",
       "\n",
       "\n"
      ]
     },
     "execution_count": 10,
     "metadata": {},
     "output_type": "execute_result"
    }
   ],
   "source": [
    "# This link doesn't seem to have the results displayed\n",
    "# Looks like my little search using this site has ended.\n",
    "# Will look into other ways to get this data\n",
    "\n",
    "#pages = requests.get(url, headers=headers)\n",
    "#soup = BeautifulSoup(pages.content, 'html.parser')\n",
    "#soup"
   ]
  },
  {
   "cell_type": "markdown",
   "metadata": {},
   "source": [
    "todo:\n",
    "* get the draw results from one-draw #bs4 using gurl()\n",
    "* save rhe data in a numpy array/pandas dataframe"
   ]
  }
 ],
 "metadata": {
  "kernelspec": {
   "display_name": "Python 3",
   "language": "python",
   "name": "python3"
  },
  "language_info": {
   "codemirror_mode": {
    "name": "ipython",
    "version": 3
   },
   "file_extension": ".py",
   "mimetype": "text/x-python",
   "name": "python",
   "nbconvert_exporter": "python",
   "pygments_lexer": "ipython3",
   "version": "3.6.1"
  }
 },
 "nbformat": 4,
 "nbformat_minor": 2
}
