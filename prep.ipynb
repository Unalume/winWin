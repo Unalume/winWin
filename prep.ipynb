{
 "cells": [
  {
   "cell_type": "markdown",
   "metadata": {},
   "source": [
    "get, clean & structure the data for use in machine-learning. "
   ]
  },
  {
   "cell_type": "code",
   "execution_count": 1,
   "metadata": {
    "collapsed": true
   },
   "outputs": [],
   "source": [
    "#importing libraries\n",
    "import requests\n",
    "from bs4 import BeautifulSoup\n",
    "import numpy as np"
   ]
  },
  {
   "cell_type": "code",
   "execution_count": 2,
   "metadata": {},
   "outputs": [
    {
     "data": {
      "text/plain": [
       "'http://www.staatsloterijuitslag.nl/vorige-trekkingen/'"
      ]
     },
     "execution_count": 2,
     "metadata": {},
     "output_type": "execute_result"
    }
   ],
   "source": [
    "# create 'draw' list datastructure with the first string 'listof'\n",
    "draw = ['/vorige-trekkingen/']\n",
    "\n",
    "# def gurl(n) <generate url>\n",
    "# put results in a array/list\n",
    " \n",
    "def gurl(i):\n",
    "    start = 'http://www.staatsloterijuitslag.nl'\n",
    "    url = start + draw[i]\n",
    "    return url\n",
    "\n",
    "i = 0\n",
    "url = gurl(i)\n",
    "url"
   ]
  },
  {
   "cell_type": "code",
   "execution_count": 3,
   "metadata": {
    "collapsed": true
   },
   "outputs": [],
   "source": [
    "#requests header - 'play nice'\n",
    "headers = {'user-agent': 'Ron-vd-Berg, donron@gmail.com'}\n",
    "\n",
    "pages = requests.get(url, headers=headers)\n",
    "soup = BeautifulSoup(pages.content, 'html.parser')"
   ]
  },
  {
   "cell_type": "code",
   "execution_count": 6,
   "metadata": {},
   "outputs": [
    {
     "data": {
      "text/plain": [
       "289"
      ]
     },
     "execution_count": 6,
     "metadata": {},
     "output_type": "execute_result"
    }
   ],
   "source": [
    "#create an array with url strings scraped from a.href=\"\" in p in div.class=\"content_main\"\n",
    "\n",
    "contentmain = soup.find_all('div', class_=\"content_main\")[1]\n",
    "\n",
    "a = contentmain.find_all('a', href=True)\n",
    "\n",
    "links = []\n",
    "\n",
    "for links in a:\n",
    "    l = links[\"href\"]\n",
    "    draw.append(l)\n",
    "    #print(links['href'])\n",
    "\n",
    "#draw\n",
    "#len(draw)"
   ]
  },
  {
   "cell_type": "code",
   "execution_count": 5,
   "metadata": {
    "scrolled": true
   },
   "outputs": [
    {
     "data": {
      "text/plain": [
       "'http://www.staatsloterijuitslag.nl/vorige-trekkingen/10-november-2011/'"
      ]
     },
     "execution_count": 5,
     "metadata": {},
     "output_type": "execute_result"
    }
   ],
   "source": [
    "#gurl(100)"
   ]
  },
  {
   "cell_type": "markdown",
   "metadata": {},
   "source": [
    "todo:\n",
    "* get the draw results from one-draw #bs4 using gurl()\n",
    "* save rhe data in a numpy array/pandas dataframe"
   ]
  }
 ],
 "metadata": {
  "kernelspec": {
   "display_name": "Python 3",
   "language": "python",
   "name": "python3"
  },
  "language_info": {
   "codemirror_mode": {
    "name": "ipython",
    "version": 3
   },
   "file_extension": ".py",
   "mimetype": "text/x-python",
   "name": "python",
   "nbconvert_exporter": "python",
   "pygments_lexer": "ipython3",
   "version": "3.6.1"
  }
 },
 "nbformat": 4,
 "nbformat_minor": 2
}
